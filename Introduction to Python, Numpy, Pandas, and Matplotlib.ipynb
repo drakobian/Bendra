{
 "cells": [
  {
   "cell_type": "markdown",
   "metadata": {},
   "source": [
    "# Introduction to Python, Numpy, Pandas, and Matplotlib\n"
   ]
  },
  {
   "cell_type": "markdown",
   "metadata": {},
   "source": [
    "This lab will detail some pythonic equivalents to the `Introduction to R` lab of [ISL](http://faculty.marshall.usc.edu/gareth-james/ISL/).\n",
    "\n",
    "This lab **will not** be an exhaustive tutorial of Python, Numpy, Pandas, or Matplotlib -- I myself still have plenty to learn about each :)"
   ]
  },
  {
   "cell_type": "markdown",
   "metadata": {},
   "source": [
    "### Basic Commands"
   ]
  },
  {
   "cell_type": "markdown",
   "metadata": {},
   "source": [
    "To create a list of numbers, we can use the syntax [1,2,3...] and optionally save this list to a variable"
   ]
  },
  {
   "cell_type": "code",
   "execution_count": 6,
   "metadata": {},
   "outputs": [
    {
     "data": {
      "text/plain": [
       "[1, 3, 2, 5]"
      ]
     },
     "execution_count": 6,
     "metadata": {},
     "output_type": "execute_result"
    }
   ],
   "source": [
    "myList = [1,3,2,5]\n",
    "myList"
   ]
  },
  {
   "cell_type": "markdown",
   "metadata": {},
   "source": [
    "* note that in a jupyter notebook, the last expression in a code cell will get printed"
   ]
  },
  {
   "cell_type": "markdown",
   "metadata": {},
   "source": [
    "You can use the help() built-in python function for help, or check the python manual for guidance if you need."
   ]
  },
  {
   "cell_type": "code",
   "execution_count": 7,
   "metadata": {},
   "outputs": [
    {
     "name": "stdout",
     "output_type": "stream",
     "text": [
      "Help on built-in function len in module builtins:\n",
      "\n",
      "len(obj, /)\n",
      "    Return the number of items in a container.\n",
      "\n"
     ]
    }
   ],
   "source": [
    "help(len)"
   ]
  },
  {
   "cell_type": "markdown",
   "metadata": {},
   "source": [
    "Where R supports element-by-element vector addition out of the box, python's default for list addition is to concatenate the two lists"
   ]
  },
  {
   "cell_type": "code",
   "execution_count": 8,
   "metadata": {},
   "outputs": [
    {
     "data": {
      "text/plain": [
       "[1, 3, 5, 2, 4, 6]"
      ]
     },
     "execution_count": 8,
     "metadata": {},
     "output_type": "execute_result"
    }
   ],
   "source": [
    "[1,3,5] + [2,4,6]"
   ]
  },
  {
   "cell_type": "markdown",
   "metadata": {},
   "source": [
    "If we instead want `[a,b,c] + [d,e,f]` to return `[a+d, b+e, c+f]`, we can use numpy arrays."
   ]
  },
  {
   "cell_type": "code",
   "execution_count": 9,
   "metadata": {},
   "outputs": [
    {
     "data": {
      "text/plain": [
       "array([ 3,  7, 11])"
      ]
     },
     "execution_count": 9,
     "metadata": {},
     "output_type": "execute_result"
    }
   ],
   "source": [
    "# import the numpy library, and alias it as np\n",
    "import numpy as np\n",
    "\n",
    "# instantiate a numpy array by wrapping a list in np.array()\n",
    "first = np.array([1,3,5])\n",
    "second = np.array([2,4,6])\n",
    "\n",
    "firstPlusSecond = first + second\n",
    "firstPlusSecond"
   ]
  },
  {
   "cell_type": "markdown",
   "metadata": {},
   "source": [
    "You can check the length of python lists using `len()` or numpy arrays using `len()` or alternatively `.shape()`"
   ]
  },
  {
   "cell_type": "code",
   "execution_count": 18,
   "metadata": {},
   "outputs": [
    {
     "name": "stdout",
     "output_type": "stream",
     "text": [
      "3\n",
      "(5,)\n"
     ]
    }
   ],
   "source": [
    "print(len([1,2,3]))\n",
    "print(np.array([4,2,4,2,4]).shape) "
   ]
  },
  {
   "cell_type": "markdown",
   "metadata": {},
   "source": [
    "Generally, numpy arrays need to be the same length to be added together."
   ]
  },
  {
   "cell_type": "code",
   "execution_count": 19,
   "metadata": {},
   "outputs": [
    {
     "ename": "ValueError",
     "evalue": "operands could not be broadcast together with shapes (3,) (2,) ",
     "output_type": "error",
     "traceback": [
      "\u001b[1;31m---------------------------------------------------------------------------\u001b[0m",
      "\u001b[1;31mValueError\u001b[0m                                Traceback (most recent call last)",
      "\u001b[1;32m<ipython-input-19-59d9c8fa279a>\u001b[0m in \u001b[0;36m<module>\u001b[1;34m\u001b[0m\n\u001b[1;32m----> 1\u001b[1;33m \u001b[0mnp\u001b[0m\u001b[1;33m.\u001b[0m\u001b[0marray\u001b[0m\u001b[1;33m(\u001b[0m\u001b[1;33m[\u001b[0m\u001b[1;36m1\u001b[0m\u001b[1;33m,\u001b[0m\u001b[1;36m3\u001b[0m\u001b[1;33m,\u001b[0m\u001b[1;36m5\u001b[0m\u001b[1;33m]\u001b[0m\u001b[1;33m)\u001b[0m \u001b[1;33m+\u001b[0m \u001b[0mnp\u001b[0m\u001b[1;33m.\u001b[0m\u001b[0marray\u001b[0m\u001b[1;33m(\u001b[0m\u001b[1;33m[\u001b[0m\u001b[1;36m2\u001b[0m\u001b[1;33m,\u001b[0m\u001b[1;36m4\u001b[0m\u001b[1;33m]\u001b[0m\u001b[1;33m)\u001b[0m\u001b[1;33m\u001b[0m\u001b[1;33m\u001b[0m\u001b[0m\n\u001b[0m",
      "\u001b[1;31mValueError\u001b[0m: operands could not be broadcast together with shapes (3,) (2,) "
     ]
    }
   ],
   "source": [
    "np.array([1,3,5]) + np.array([2,4])"
   ]
  },
  {
   "cell_type": "markdown",
   "metadata": {},
   "source": [
    "This isn't the whole story -- numpy will try to make sense of operations you give it.\n",
    "But in general, you'll want to add together arrays with matching shapes.\n",
    "If you want to see a result I found interesting, try uncommenting the last line of the following code cell"
   ]
  },
  {
   "cell_type": "code",
   "execution_count": 17,
   "metadata": {},
   "outputs": [
    {
     "name": "stdout",
     "output_type": "stream",
     "text": [
      "first:\n",
      "[1 1 1]\n",
      "(3,)\n",
      "-----------\n",
      "second:\n",
      "[[2]\n",
      " [3]\n",
      " [4]]\n",
      "(3, 1)\n"
     ]
    }
   ],
   "source": [
    "first = np.array([1,1,1]) # sort of like the matrix row [1,1,1]\n",
    "second = np.array([[2], [3], [4]]) # this is more like a column\n",
    "print('first:')\n",
    "print(first)\n",
    "print(first.shape)\n",
    "\n",
    "print('-----------')\n",
    "print('second:')\n",
    "print(second)\n",
    "print(second.shape)\n",
    "#first + second"
   ]
  },
  {
   "cell_type": "markdown",
   "metadata": {},
   "source": [
    "In R, the `ls()` function will list all the objects saved in a session.\n",
    "Python has similar commands in `dir()`, `locals()`, and `globals()`\n",
    "\n",
    "(figure out a better way to word this)\n",
    "However, these also list python global objects, not just user-defined ones. \n",
    "\n",
    "Because this is a Jupyter notebook, we can use the `%who` magic to see only user-defined objects"
   ]
  },
  {
   "cell_type": "code",
   "execution_count": 25,
   "metadata": {},
   "outputs": [
    {
     "name": "stdout",
     "output_type": "stream",
     "text": [
      "first\t firstPlusSecond\t myList\t np\t second\t \n"
     ]
    }
   ],
   "source": [
    "%who"
   ]
  },
  {
   "cell_type": "markdown",
   "metadata": {},
   "source": [
    "I don't know if it's all that [pythonic](https://docs.python-guide.org/writing/style/) to \"undeclare\" your variables, but you're certainly allowed to using `del`.\n",
    "I haven't been able to find an equivalent to R's removal of all user-defined objects, but I'm sure it can be done. (the mathematician in me is always happy to say [\"a solution exists!\"](https://users.cs.northwestern.edu/~riesbeck/mathphyseng.html#fire) and walk away)"
   ]
  },
  {
   "cell_type": "code",
   "execution_count": 27,
   "metadata": {},
   "outputs": [
    {
     "ename": "NameError",
     "evalue": "name 'myList' is not defined",
     "output_type": "error",
     "traceback": [
      "\u001b[1;31m---------------------------------------------------------------------------\u001b[0m",
      "\u001b[1;31mNameError\u001b[0m                                 Traceback (most recent call last)",
      "\u001b[1;32m<ipython-input-27-efa1c5cc42d0>\u001b[0m in \u001b[0;36m<module>\u001b[1;34m\u001b[0m\n\u001b[1;32m----> 1\u001b[1;33m \u001b[1;32mdel\u001b[0m \u001b[0mmyList\u001b[0m\u001b[1;33m\u001b[0m\u001b[1;33m\u001b[0m\u001b[0m\n\u001b[0m\u001b[0;32m      2\u001b[0m \u001b[0mmyList\u001b[0m\u001b[1;33m\u001b[0m\u001b[1;33m\u001b[0m\u001b[0m\n",
      "\u001b[1;31mNameError\u001b[0m: name 'myList' is not defined"
     ]
    }
   ],
   "source": [
    "del myList\n",
    "myList"
   ]
  },
  {
   "cell_type": "markdown",
   "metadata": {},
   "source": [
    "To create a matrix in numpy, you'll still use np.array, but you'll pass it an array of arrays.\n",
    "* there is a numpy.matrix class, however numpy explicitly suggests not using it going forward"
   ]
  },
  {
   "cell_type": "code",
   "execution_count": 35,
   "metadata": {},
   "outputs": [
    {
     "data": {
      "text/plain": [
       "array([[1, 2],\n",
       "       [3, 5]])"
      ]
     },
     "execution_count": 35,
     "metadata": {},
     "output_type": "execute_result"
    }
   ],
   "source": [
    "matrix = np.array([[1,2], [3, 5]])\n",
    "matrix"
   ]
  },
  {
   "cell_type": "markdown",
   "metadata": {},
   "source": [
    "Python and R are similar in that their functions can be called with named arguments.\n",
    "Calling a function without named arguments (which is all we've seen in this notebook so far)\n",
    "causes the arguments to be used positionally. \n",
    "\n",
    "    ex. np.array() takes a handful of arguments, but the first two are object and dtype\n",
    "    object is the \"array-like\" thing we want to put into the numpy array, and dtype specifies the type we want for our array\n",
    "    by leaving off the name in the above calls, np.array([1,2,3]) calls the function with [1,2,3] as the \"object\" argument.\n",
    "    Not specifying the dtype argument causes it to default to whatever numpy deems fit -- be sure to read the results from\n",
    "    help(np.array) if you need.\n",
    "    We can use these named arguments to supply whichever arguments we want, in whatever order we want"
   ]
  },
  {
   "cell_type": "code",
   "execution_count": 38,
   "metadata": {},
   "outputs": [
    {
     "ename": "TypeError",
     "evalue": "data type not understood",
     "output_type": "error",
     "traceback": [
      "\u001b[1;31m---------------------------------------------------------------------------\u001b[0m",
      "\u001b[1;31mTypeError\u001b[0m                                 Traceback (most recent call last)",
      "\u001b[1;32m<ipython-input-38-85b75fae457a>\u001b[0m in \u001b[0;36m<module>\u001b[1;34m\u001b[0m\n\u001b[0;32m      1\u001b[0m \u001b[1;31m# normally object is the first arg and dtype is second. flipping them around as is will throw an error\u001b[0m\u001b[1;33m\u001b[0m\u001b[1;33m\u001b[0m\u001b[1;33m\u001b[0m\u001b[0m\n\u001b[1;32m----> 2\u001b[1;33m \u001b[0mnp\u001b[0m\u001b[1;33m.\u001b[0m\u001b[0marray\u001b[0m\u001b[1;33m(\u001b[0m\u001b[0mint\u001b[0m\u001b[1;33m,\u001b[0m \u001b[1;33m[\u001b[0m\u001b[1;36m1\u001b[0m\u001b[1;33m,\u001b[0m\u001b[1;36m2\u001b[0m\u001b[1;33m,\u001b[0m\u001b[1;36m3\u001b[0m\u001b[1;33m]\u001b[0m\u001b[1;33m)\u001b[0m\u001b[1;33m\u001b[0m\u001b[1;33m\u001b[0m\u001b[0m\n\u001b[0m",
      "\u001b[1;31mTypeError\u001b[0m: data type not understood"
     ]
    }
   ],
   "source": [
    "# normally object is the first arg and dtype is second. flipping them around as is will throw an error\n",
    "np.array(int, [1,2,3])"
   ]
  },
  {
   "cell_type": "code",
   "execution_count": 40,
   "metadata": {},
   "outputs": [
    {
     "data": {
      "text/plain": [
       "array([1, 2, 3])"
      ]
     },
     "execution_count": 40,
     "metadata": {},
     "output_type": "execute_result"
    }
   ],
   "source": [
    "# we can accomplish this using named arguments\n",
    "np.array(dtype=int, object=[1,2,3])"
   ]
  },
  {
   "cell_type": "markdown",
   "metadata": {},
   "source": [
    "Numpy provides plenty of functions that can be used to modify arrays.\n",
    "np.sqrt(array) will return a numpy array with the square root of each original element\n",
    "np.power(array, exp) will return a numpy array with the `exp` power of each element"
   ]
  },
  {
   "cell_type": "code",
   "execution_count": 55,
   "metadata": {},
   "outputs": [
    {
     "name": "stdout",
     "output_type": "stream",
     "text": [
      "[[9. 8.]\n",
      " [7. 6.]]\n",
      "-----------\n",
      "[ 4 16 36]\n"
     ]
    }
   ],
   "source": [
    "print(np.sqrt([[81, 64], [49, 36]]))\n",
    "print('-----------')\n",
    "print(np.power([2,4,6], 2))"
   ]
  },
  {
   "cell_type": "markdown",
   "metadata": {},
   "source": [
    "the function `np.random.normal(loc, scale, size)` generates a vector of random normal variables, with third argument `size` the sample size.\n",
    "\n",
    "`loc` specifies the mean of the distribution, and `scale` specifies the standard deviation.\n",
    "Note that every time we call this function, we'll get a different array."
   ]
  },
  {
   "cell_type": "code",
   "execution_count": 59,
   "metadata": {},
   "outputs": [
    {
     "data": {
      "text/plain": [
       "array([ 0.23432433, -0.3793597 ,  1.06076047, -0.32478103, -1.89242306,\n",
       "        0.13783193, -1.37581535, -0.31900037,  1.67662529,  0.00808637,\n",
       "       -0.95449123,  0.42840183, -1.2598001 ,  0.67939676, -1.09649225,\n",
       "        0.62811728, -0.36208023, -2.01801249,  1.12925337,  0.04727757,\n",
       "       -1.7932846 , -0.52206476, -0.29404783,  0.29183791, -1.18948764,\n",
       "        0.64584715, -0.68126938, -0.21525949,  0.17264638,  0.91379428,\n",
       "       -0.71527361,  0.08279306, -0.43545896, -0.02788919,  1.31078307,\n",
       "        0.93439855,  3.1376365 , -0.30646461,  0.75588245,  0.27070005,\n",
       "        1.83846372, -0.60570032, -0.46335782,  1.35737179,  0.89764458,\n",
       "       -1.23329964,  1.22521369,  1.25366178,  0.49489697,  1.034812  ])"
      ]
     },
     "execution_count": 59,
     "metadata": {},
     "output_type": "execute_result"
    }
   ],
   "source": [
    "np.random.normal(size=50)"
   ]
  },
  {
   "cell_type": "code",
   "execution_count": 71,
   "metadata": {},
   "outputs": [
    {
     "data": {
      "text/plain": [
       "0.9949646743735469"
      ]
     },
     "execution_count": 71,
     "metadata": {},
     "output_type": "execute_result"
    }
   ],
   "source": [
    "# we can use the corrcoef function to compute the correlation between two arrays\n",
    "x = np.random.normal(size=50)\n",
    "y = x + np.random.normal(loc=50, scale=0.1, size=50)\n",
    "# the [0, 1] will explained in the `Indexing` section of this notebook\n",
    "np.corrcoef(x,y)[0, 1] # correlation should be in the ballpark of 0.95"
   ]
  },
  {
   "cell_type": "markdown",
   "metadata": {},
   "source": [
    "We may want our code to reproduce the exact same set of \"random\" numbers when we use random.normal\n",
    "\n",
    "We can do this by setting a random seed.\n",
    "- Note this doesn't mean calling np.random.normal two times in a row will produce the exact same array. Instead it means the next time this code is run, x will be the same as it was the first time, as will y."
   ]
  },
  {
   "cell_type": "code",
   "execution_count": 96,
   "metadata": {},
   "outputs": [
    {
     "data": {
      "text/plain": [
       "array([False, False, False, False, False, False, False, False, False,\n",
       "       False])"
      ]
     },
     "execution_count": 96,
     "metadata": {},
     "output_type": "execute_result"
    }
   ],
   "source": [
    "np.random.seed(28)\n",
    "\n",
    "x = np.random.normal(size=10) # now the first element of x will always be 0.44633238\n",
    "\n",
    "y = np.random.normal(size=10) # now the first element of y will always be 0.25350786\n",
    "\n",
    "# now every time this notebook is run, \n",
    "# x will be the same as it was the first time I ran it,\n",
    "# and y will be the same as it was the first time I ran it.\n",
    "# x and y, however, will not be the same:\n",
    "x == y"
   ]
  },
  {
   "cell_type": "markdown",
   "metadata": {},
   "source": [
    "We can use np.mean, np.var, and np.std to compute the respective mean, variance, and standard deviation of an array"
   ]
  },
  {
   "cell_type": "code",
   "execution_count": 126,
   "metadata": {},
   "outputs": [
    {
     "name": "stdout",
     "output_type": "stream",
     "text": [
      "14.69387978301393\n",
      "9.97661674803756\n",
      "99.53288173722356\n"
     ]
    }
   ],
   "source": [
    "np.random.seed(15)\n",
    "x = np.random.normal(loc=15, scale=10, size=1000)\n",
    "print(np.mean(x)) # turns out close to 15, like we expect, since our array is centered around 15\n",
    "print(np.std(x)) # turns out close to 10\n",
    "print(np.var(x)) # turns out close to 100, the square of our standard deviation"
   ]
  }
 ],
 "metadata": {
  "kernelspec": {
   "display_name": "Python 3",
   "language": "python",
   "name": "python3"
  },
  "language_info": {
   "codemirror_mode": {
    "name": "ipython",
    "version": 3
   },
   "file_extension": ".py",
   "mimetype": "text/x-python",
   "name": "python",
   "nbconvert_exporter": "python",
   "pygments_lexer": "ipython3",
   "version": "3.8.3"
  }
 },
 "nbformat": 4,
 "nbformat_minor": 4
}
